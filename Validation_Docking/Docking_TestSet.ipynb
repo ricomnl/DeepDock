{
 "cells": [
  {
   "cell_type": "code",
   "execution_count": 1,
   "metadata": {},
   "outputs": [
    {
     "name": "stderr",
     "output_type": "stream",
     "text": [
      "RDKit WARNING: [12:00:22] Enabling RDKit 2019.09.1 jupyter extensions\n"
     ]
    }
   ],
   "source": [
    "from torch_geometric.data import DataLoader\n",
    "import torch.distributions as D\n",
    "import matplotlib.pyplot as plt\n",
    "from rdkit import Chem, DataStructs\n",
    "from rdkit.Chem import AllChem, Draw, Descriptors, rdMolTransforms\n",
    "from rdkit import rdBase\n",
    "import glob\n",
    "import os\n",
    "\n",
    "from deepdock.utils.distributions import *\n",
    "from deepdock.utils.data import *\n",
    "from deepdock.models import *\n",
    "\n",
    "from deepdock.docking_function import optimze_conformation\n",
    "from scipy.optimize import basinhopping, brute, differential_evolution\n",
    "import copy\n",
    "\n",
    "# set the random seeds for reproducibility\n",
    "np.random.seed(123)\n",
    "torch.cuda.manual_seed_all(123)\n",
    "torch.manual_seed(123)\n",
    "\n",
    "%matplotlib inline"
   ]
  },
  {
   "cell_type": "code",
   "execution_count": 2,
   "metadata": {},
   "outputs": [
    {
     "data": {
      "text/plain": [
       "<All keys matched successfully>"
      ]
     },
     "execution_count": 2,
     "metadata": {},
     "output_type": "execute_result"
    }
   ],
   "source": [
    "#device = 'cuda' if torch.cuda.is_available() else 'cpu'\n",
    "device = 'cpu'\n",
    "\n",
    "ligand_model = LigandNet(28, residual_layers=10, dropout_rate=0.10)\n",
    "target_model = TargetNet(4, residual_layers=10, dropout_rate=0.10)\n",
    "model = DeepDock(ligand_model, target_model, hidden_dim=64, n_gaussians=10, dropout_rate=0.10, dist_threhold=7.).to(device)\n",
    "\n",
    "checkpoint = torch.load('../Trained_models/DeepDock_pdbbindv2019_13K_minTestLoss.chk')\n",
    "model.load_state_dict(checkpoint['model_state_dict']) "
   ]
  },
  {
   "cell_type": "code",
   "execution_count": 3,
   "metadata": {},
   "outputs": [
    {
     "name": "stdout",
     "output_type": "stream",
     "text": [
      "Complexes in Test Set: 1367\n",
      "CPU times: user 4.9 s, sys: 2.61 s, total: 7.51 s\n",
      "Wall time: 7.51 s\n"
     ]
    }
   ],
   "source": [
    "%%time\n",
    "db_complex = PDBbind_complex_dataset(data_path='../data/dataset_deepdock_pdbbind_v2019_16K.tar', \n",
    "                                     min_target_nodes=50, max_ligand_nodes=None)\n",
    "db_complex = [i for i in db_complex if i[3] in checkpoint['pdbIDs_test']]\n",
    "print('Complexes in Test Set:', len(db_complex))\n"
   ]
  },
  {
   "cell_type": "code",
   "execution_count": 4,
   "metadata": {},
   "outputs": [],
   "source": [
    "def dock_compound(data, dist_threshold=3., popsize=150):\n",
    "    np.random.seed(123)\n",
    "    torch.cuda.manual_seed_all(123)\n",
    "    torch.manual_seed(123)\n",
    "    \n",
    "    model.eval()\n",
    "    ligand, target, activity, pdbid = data\n",
    "    ligand, target = ligand.to(device), target.to(device)\n",
    "    pi, sigma, mu, dist, atom_types, bond_types, batch = model(ligand, target)\n",
    "    \n",
    "    pdb_id = pdbid[0]\n",
    "    real_mol = Chem.MolFromMol2File('../../DeepDock/data/pdbbind_v2019_other_refined/' + pdb_id + '/' + pdb_id +'_ligand.mol2',\n",
    "                                    sanitize=False, cleanupSubstructures=False, removeHs=False)\n",
    "    opt = optimze_conformation(mol=real_mol, target_coords=target.pos.cpu(), n_particles=1, \n",
    "                               pi=pi.cpu(), mu=mu.cpu(), sigma=sigma.cpu(), dist_threshold=dist_threshold)\n",
    "    \n",
    "    #Define bounds\n",
    "    max_bound = np.concatenate([[np.pi]*3, target.pos.cpu().max(0)[0].numpy(), [np.pi]*len(opt.rotable_bonds)], axis=0)\n",
    "    min_bound = np.concatenate([[-np.pi]*3, target.pos.cpu().min(0)[0].numpy(), [-np.pi]*len(opt.rotable_bonds)], axis=0)\n",
    "    bounds = (min_bound, max_bound)\n",
    "    \n",
    "    # Optimize conformations\n",
    "    result = differential_evolution(opt.score_conformation, list(zip(bounds[0],bounds[1])), maxiter=500, \n",
    "                                    popsize=int(np.ceil(popsize/(len(opt.rotable_bonds)+6))),\n",
    "                                    mutation=(0.5, 1), recombination=0.8, disp=False, seed=123)\n",
    "    \n",
    "    # Get optimized molecule and RMSD\n",
    "    opt_mol = opt.apply_changes(opt.mol, result['x'])\n",
    "    ligCoords = torch.stack([torch.tensor(m.GetConformer().GetPositions()[opt.noHidx]) for m in [opt_mol]])\n",
    "    dist = opt.compute_euclidean_distances_matrix(ligCoords, opt.targetCoords).flatten().unsqueeze(1)\n",
    "    result['num_MixOfGauss'] = torch.where(dist <= dist_threshold)[0].size(0)\n",
    "    result['rmsd'] = Chem.rdMolAlign.AlignMol(opt_mol, real_mol, atomMap=list(zip(opt.noHidx,opt.noHidx)))\n",
    "    result['pdb_id'] = pdb_id\n",
    "    \n",
    "    # Get score of real conformation\n",
    "    ligCoords = torch.stack([torch.tensor(m.GetConformer().GetPositions()[opt.noHidx]) for m in [real_mol]])\n",
    "    dist = opt.compute_euclidean_distances_matrix(ligCoords, opt.targetCoords).flatten().unsqueeze(1)\n",
    "    score_real_mol = opt.calculate_probablity(opt.pi, opt.sigma, opt.mu, dist)\n",
    "    score_real_mol[torch.where(dist > dist_threshold)[0]] = 0.\n",
    "    result['score_real_mol'] = pdb_id = score_real_mol.reshape(opt.n_particles, -1).sum(1).item()\n",
    "    del ligCoords, dist, score_real_mol\n",
    "    \n",
    "    result['pkx'] = data[2][0].item()\n",
    "    result['num_atoms'] = real_mol.GetNumHeavyAtoms()\n",
    "    result['num_rotbonds'] = len(opt.rotable_bonds)\n",
    "    result['rotbonds'] = opt.rotable_bonds\n",
    "    #result['num_MixOfGauss'] = mu.size(0)\n",
    "    \n",
    "    return result"
   ]
  },
  {
   "cell_type": "code",
   "execution_count": null,
   "metadata": {},
   "outputs": [
    {
     "name": "stderr",
     "output_type": "stream",
     "text": [
      "RDKit WARNING: [18:41:01] 1w70_ligand: Warning - no explicit hydrogens in mol2 file but needed for formal charge estimation.\n"
     ]
    }
   ],
   "source": [
    "%%time\n",
    "loader = DataLoader(db_complex, batch_size=1, shuffle=False)\n",
    "\n",
    "results = []\n",
    "i = 0\n",
    "for data in loader:\n",
    "    try:\n",
    "        results.append(dock_compound(data))\n",
    "        d = {}\n",
    "        for k in results[0].keys():\n",
    "            if k != 'jac':\n",
    "                d[k] = tuple(d[k] for d in results)\n",
    "        torch.save(d, 'DockingResults_TestSet.chk')\n",
    "        results_df = pd.DataFrame.from_dict(d)\n",
    "        results_df.to_csv('DockingResults_TestSet.csv', index=False) \n",
    "        i += 1\n",
    "    except:\n",
    "        print(i, data[3])\n",
    "        #break\n",
    "        i += 1"
   ]
  },
  {
   "cell_type": "code",
   "execution_count": null,
   "metadata": {},
   "outputs": [],
   "source": []
  },
  {
   "cell_type": "code",
   "execution_count": null,
   "metadata": {},
   "outputs": [],
   "source": []
  },
  {
   "cell_type": "code",
   "execution_count": null,
   "metadata": {},
   "outputs": [],
   "source": []
  },
  {
   "cell_type": "code",
   "execution_count": 6,
   "metadata": {},
   "outputs": [
    {
     "data": {
      "text/html": [
       "<div>\n",
       "<style scoped>\n",
       "    .dataframe tbody tr th:only-of-type {\n",
       "        vertical-align: middle;\n",
       "    }\n",
       "\n",
       "    .dataframe tbody tr th {\n",
       "        vertical-align: top;\n",
       "    }\n",
       "\n",
       "    .dataframe thead th {\n",
       "        text-align: right;\n",
       "    }\n",
       "</style>\n",
       "<table border=\"1\" class=\"dataframe\">\n",
       "  <thead>\n",
       "    <tr style=\"text-align: right;\">\n",
       "      <th></th>\n",
       "      <th>x</th>\n",
       "      <th>fun</th>\n",
       "      <th>nfev</th>\n",
       "      <th>nit</th>\n",
       "      <th>message</th>\n",
       "      <th>success</th>\n",
       "      <th>num_MixOfGauss</th>\n",
       "      <th>rmsd</th>\n",
       "      <th>pdb_id</th>\n",
       "      <th>score_real_mol</th>\n",
       "      <th>pkx</th>\n",
       "      <th>num_atoms</th>\n",
       "      <th>num_rotbonds</th>\n",
       "      <th>rotbonds</th>\n",
       "    </tr>\n",
       "  </thead>\n",
       "  <tbody>\n",
       "    <tr>\n",
       "      <td>0</td>\n",
       "      <td>[0.4068741664658634, -3.111903377819833, 2.669...</td>\n",
       "      <td>[-61.60544253382419]</td>\n",
       "      <td>81378</td>\n",
       "      <td>500</td>\n",
       "      <td>Maximum number of iterations has been exceeded.</td>\n",
       "      <td>False</td>\n",
       "      <td>428</td>\n",
       "      <td>2.892180</td>\n",
       "      <td>3zsq</td>\n",
       "      <td>85.058905</td>\n",
       "      <td>4.96</td>\n",
       "      <td>39</td>\n",
       "      <td>14</td>\n",
       "      <td>[(2, 10, 20, 31), (14, 11, 21, 33), (5, 12, 30...</td>\n",
       "    </tr>\n",
       "    <tr>\n",
       "      <td>1</td>\n",
       "      <td>[-2.0860038481249803, 0.36174218280227977, -0....</td>\n",
       "      <td>-204.159</td>\n",
       "      <td>8093</td>\n",
       "      <td>51</td>\n",
       "      <td>Optimization terminated successfully.</td>\n",
       "      <td>True</td>\n",
       "      <td>273</td>\n",
       "      <td>2.222657</td>\n",
       "      <td>6g34</td>\n",
       "      <td>192.097119</td>\n",
       "      <td>8.24</td>\n",
       "      <td>20</td>\n",
       "      <td>2</td>\n",
       "      <td>[(3, 2, 1, 0), (6, 5, 4, 3)]</td>\n",
       "    </tr>\n",
       "    <tr>\n",
       "      <td>2</td>\n",
       "      <td>[1.1728373648793995, 1.711938601173987, 2.2464...</td>\n",
       "      <td>[-104.11306138437084]</td>\n",
       "      <td>21802</td>\n",
       "      <td>134</td>\n",
       "      <td>Optimization terminated successfully.</td>\n",
       "      <td>True</td>\n",
       "      <td>469</td>\n",
       "      <td>1.667209</td>\n",
       "      <td>5w99</td>\n",
       "      <td>97.692953</td>\n",
       "      <td>4.68</td>\n",
       "      <td>34</td>\n",
       "      <td>7</td>\n",
       "      <td>[(18, 1, 0, 15), (27, 26, 2, 18), (5, 4, 6, 24...</td>\n",
       "    </tr>\n",
       "    <tr>\n",
       "      <td>3</td>\n",
       "      <td>[0.6677677050421503, -1.6613927144064407, -0.6...</td>\n",
       "      <td>[-4.350164062386345]</td>\n",
       "      <td>33354</td>\n",
       "      <td>212</td>\n",
       "      <td>Optimization terminated successfully.</td>\n",
       "      <td>True</td>\n",
       "      <td>117</td>\n",
       "      <td>0.569976</td>\n",
       "      <td>2q7q</td>\n",
       "      <td>1.262541</td>\n",
       "      <td>5.30</td>\n",
       "      <td>9</td>\n",
       "      <td>1</td>\n",
       "      <td>[(3, 2, 1, 0)]</td>\n",
       "    </tr>\n",
       "    <tr>\n",
       "      <td>4</td>\n",
       "      <td>[-1.1667280590125937, 0.0006917577322102169, -...</td>\n",
       "      <td>[-100.44115467231256]</td>\n",
       "      <td>33998</td>\n",
       "      <td>212</td>\n",
       "      <td>Optimization terminated successfully.</td>\n",
       "      <td>True</td>\n",
       "      <td>315</td>\n",
       "      <td>2.894431</td>\n",
       "      <td>2pbw</td>\n",
       "      <td>95.071165</td>\n",
       "      <td>8.25</td>\n",
       "      <td>22</td>\n",
       "      <td>7</td>\n",
       "      <td>[(0, 1, 3, 4), (1, 3, 5, 6), (5, 6, 7, 8), (11...</td>\n",
       "    </tr>\n",
       "  </tbody>\n",
       "</table>\n",
       "</div>"
      ],
      "text/plain": [
       "                                                   x                    fun  \\\n",
       "0  [0.4068741664658634, -3.111903377819833, 2.669...   [-61.60544253382419]   \n",
       "1  [-2.0860038481249803, 0.36174218280227977, -0....               -204.159   \n",
       "2  [1.1728373648793995, 1.711938601173987, 2.2464...  [-104.11306138437084]   \n",
       "3  [0.6677677050421503, -1.6613927144064407, -0.6...   [-4.350164062386345]   \n",
       "4  [-1.1667280590125937, 0.0006917577322102169, -...  [-100.44115467231256]   \n",
       "\n",
       "    nfev  nit                                          message  success  \\\n",
       "0  81378  500  Maximum number of iterations has been exceeded.    False   \n",
       "1   8093   51            Optimization terminated successfully.     True   \n",
       "2  21802  134            Optimization terminated successfully.     True   \n",
       "3  33354  212            Optimization terminated successfully.     True   \n",
       "4  33998  212            Optimization terminated successfully.     True   \n",
       "\n",
       "   num_MixOfGauss      rmsd pdb_id  score_real_mol   pkx  num_atoms  \\\n",
       "0             428  2.892180   3zsq       85.058905  4.96         39   \n",
       "1             273  2.222657   6g34      192.097119  8.24         20   \n",
       "2             469  1.667209   5w99       97.692953  4.68         34   \n",
       "3             117  0.569976   2q7q        1.262541  5.30          9   \n",
       "4             315  2.894431   2pbw       95.071165  8.25         22   \n",
       "\n",
       "   num_rotbonds                                           rotbonds  \n",
       "0            14  [(2, 10, 20, 31), (14, 11, 21, 33), (5, 12, 30...  \n",
       "1             2                       [(3, 2, 1, 0), (6, 5, 4, 3)]  \n",
       "2             7  [(18, 1, 0, 15), (27, 26, 2, 18), (5, 4, 6, 24...  \n",
       "3             1                                     [(3, 2, 1, 0)]  \n",
       "4             7  [(0, 1, 3, 4), (1, 3, 5, 6), (5, 6, 7, 8), (11...  "
      ]
     },
     "execution_count": 6,
     "metadata": {},
     "output_type": "execute_result"
    }
   ],
   "source": [
    "results_df.head()"
   ]
  },
  {
   "cell_type": "code",
   "execution_count": 7,
   "metadata": {},
   "outputs": [
    {
     "data": {
      "text/plain": [
       "(array([153., 187., 158., 108.,  80.,  65.,  62.,  40.,  35.,  29.]),\n",
       " array([ 28. ,  75.1, 122.2, 169.3, 216.4, 263.5, 310.6, 357.7, 404.8,\n",
       "        451.9, 499. ]),\n",
       " <a list of 10 Patch objects>)"
      ]
     },
     "execution_count": 7,
     "metadata": {},
     "output_type": "execute_result"
    },
    {
     "data": {
      "image/png": "[encoded data removed]",
      "text/plain": [
       "<Figure size 432x288 with 1 Axes>"
      ]
     },
     "metadata": {
      "needs_background": "light"
     },
     "output_type": "display_data"
    }
   ],
   "source": [
    "plt.hist(results_df['nit'][results_df.success == True])"
   ]
  },
  {
   "cell_type": "code",
   "execution_count": 21,
   "metadata": {},
   "outputs": [
    {
     "data": {
      "text/plain": [
       "(array([287., 491., 255., 142.,  76.,  61.,  39.,   7.,   6.,   3.]),\n",
       " array([1.99216067e-06, 1.12116077e+00, 2.24231954e+00, 3.36347832e+00,\n",
       "        4.48463709e+00, 5.60579587e+00, 6.72695465e+00, 7.84811342e+00,\n",
       "        8.96927220e+00, 1.00904310e+01, 1.12115897e+01]),\n",
       " <a list of 10 Patch objects>)"
      ]
     },
     "execution_count": 21,
     "metadata": {},
     "output_type": "execute_result"
    },
    {
     "data": {
      "image/png": "[encoded data removed]",
      "text/plain": [
       "<Figure size 432x288 with 1 Axes>"
      ]
     },
     "metadata": {
      "needs_background": "light"
     },
     "output_type": "display_data"
    }
   ],
   "source": [
    "#plt.hist(results_df['rmsd'][results_df.success == True])\n",
    "plt.hist(results_df['rmsd'])"
   ]
  },
  {
   "cell_type": "code",
   "execution_count": 22,
   "metadata": {},
   "outputs": [
    {
     "data": {
      "text/plain": [
       "2.495132448184889"
      ]
     },
     "execution_count": 22,
     "metadata": {},
     "output_type": "execute_result"
    }
   ],
   "source": [
    "results_df.rmsd.mean()"
   ]
  },
  {
   "cell_type": "code",
   "execution_count": 8,
   "metadata": {},
   "outputs": [
    {
     "data": {
      "text/plain": [
       "1.6241036200685184"
      ]
     },
     "execution_count": 8,
     "metadata": {},
     "output_type": "execute_result"
    }
   ],
   "source": [
    "results_df[results_df.success == True].rmsd.mean()"
   ]
  },
  {
   "cell_type": "code",
   "execution_count": 9,
   "metadata": {},
   "outputs": [
    {
     "data": {
      "text/plain": [
       "(917, 14)"
      ]
     },
     "execution_count": 9,
     "metadata": {},
     "output_type": "execute_result"
    }
   ],
   "source": [
    "results_df[results_df.success == True].shape"
   ]
  },
  {
   "cell_type": "code",
   "execution_count": 10,
   "metadata": {},
   "outputs": [
    {
     "data": {
      "text/plain": [
       "<matplotlib.collections.PathCollection at 0x7f1d0537af98>"
      ]
     },
     "execution_count": 10,
     "metadata": {},
     "output_type": "execute_result"
    },
    {
     "data": {
      "image/png": "[encoded data removed]",
      "text/plain": [
       "<Figure size 432x288 with 1 Axes>"
      ]
     },
     "metadata": {
      "needs_background": "light"
     },
     "output_type": "display_data"
    }
   ],
   "source": [
    "norm_scores = [-r[0] if isinstance(r, list)  else -r for r in results_df.fun[results_df.success == True]]\n",
    "plt.scatter(norm_scores, results_df[results_df.success == True].pkx)"
   ]
  },
  {
   "cell_type": "code",
   "execution_count": 28,
   "metadata": {},
   "outputs": [
    {
     "data": {
      "text/plain": [
       "<matplotlib.collections.PathCollection at 0x7f1d5a0e6320>"
      ]
     },
     "execution_count": 28,
     "metadata": {},
     "output_type": "execute_result"
    },
    {
     "data": {
      "image/png": "[encoded data removed]",
      "text/plain": [
       "<Figure size 432x288 with 1 Axes>"
      ]
     },
     "metadata": {
      "needs_background": "light"
     },
     "output_type": "display_data"
    }
   ],
   "source": [
    "norm_scores = [-r[0] if isinstance(r, list)  else -r for r in results_df.fun[results_df.success == True]]\n",
    "plt.scatter(norm_scores, results_df[results_df.success == True].pkx)"
   ]
  },
  {
   "cell_type": "code",
   "execution_count": null,
   "metadata": {},
   "outputs": [],
   "source": []
  },
  {
   "cell_type": "code",
   "execution_count": null,
   "metadata": {},
   "outputs": [],
   "source": []
  },
  {
   "cell_type": "code",
   "execution_count": 12,
   "metadata": {},
   "outputs": [
    {
     "data": {
      "text/plain": [
       "<matplotlib.collections.PathCollection at 0x7f1d05086e48>"
      ]
     },
     "execution_count": 12,
     "metadata": {},
     "output_type": "execute_result"
    },
    {
     "data": {
      "image/png": "[encoded data removed]",
      "text/plain": [
       "<Figure size 432x288 with 1 Axes>"
      ]
     },
     "metadata": {
      "needs_background": "light"
     },
     "output_type": "display_data"
    }
   ],
   "source": [
    "norm_scores = [-r[0] if isinstance(r, list)  else -r for r in results_df.fun[results_df.success == True]]\n",
    "plt.scatter(results_df[results_df.success == True].num_rotbonds, norm_scores)"
   ]
  },
  {
   "cell_type": "code",
   "execution_count": 13,
   "metadata": {},
   "outputs": [
    {
     "data": {
      "text/plain": [
       "<matplotlib.collections.PathCollection at 0x7f1d5b5d22e8>"
      ]
     },
     "execution_count": 13,
     "metadata": {},
     "output_type": "execute_result"
    },
    {
     "data": {
      "image/png": "[encoded data removed]",
      "text/plain": [
       "<Figure size 432x288 with 1 Axes>"
      ]
     },
     "metadata": {
      "needs_background": "light"
     },
     "output_type": "display_data"
    }
   ],
   "source": [
    "norm_scores = [-r[0] if isinstance(r, list)  else -r for r in results_df.fun[results_df.success == True]]\n",
    "plt.scatter(results_df[results_df.success == True].num_atoms, norm_scores)"
   ]
  },
  {
   "cell_type": "code",
   "execution_count": 14,
   "metadata": {},
   "outputs": [
    {
     "data": {
      "text/plain": [
       "<matplotlib.collections.PathCollection at 0x7f1d5b5c95f8>"
      ]
     },
     "execution_count": 14,
     "metadata": {},
     "output_type": "execute_result"
    },
    {
     "data": {
      "image/png": "[encoded data removed]",
      "text/plain": [
       "<Figure size 432x288 with 1 Axes>"
      ]
     },
     "metadata": {
      "needs_background": "light"
     },
     "output_type": "display_data"
    }
   ],
   "source": [
    "norm_scores = [-r[0] if isinstance(r, list)  else -r for r in results_df.fun[results_df.success == True]]\n",
    "plt.scatter(results_df[results_df.success == True].num_atoms, results_df[results_df.success == True].rmsd)"
   ]
  },
  {
   "cell_type": "code",
   "execution_count": 19,
   "metadata": {},
   "outputs": [
    {
     "data": {
      "text/plain": [
       "<matplotlib.collections.PathCollection at 0x7f1d5a833a58>"
      ]
     },
     "execution_count": 19,
     "metadata": {},
     "output_type": "execute_result"
    },
    {
     "data": {
      "image/png": "[encoded data removed]",
      "text/plain": [
       "<Figure size 432x288 with 1 Axes>"
      ]
     },
     "metadata": {
      "needs_background": "light"
     },
     "output_type": "display_data"
    }
   ],
   "source": [
    "plt.scatter(results_df[results_df.success == True].num_rotbonds, results_df[results_df.success == True].rmsd)\n",
    "#plt.scatter(results_df.num_rotbonds, results_df.rmsd)"
   ]
  },
  {
   "cell_type": "code",
   "execution_count": 17,
   "metadata": {},
   "outputs": [
    {
     "data": {
      "text/plain": [
       "[<matplotlib.lines.Line2D at 0x7f1d054d3978>]"
      ]
     },
     "execution_count": 17,
     "metadata": {},
     "output_type": "execute_result"
    },
    {
     "data": {
      "image/png": "[encoded data removed]",
      "text/plain": [
       "<Figure size 432x288 with 1 Axes>"
      ]
     },
     "metadata": {
      "needs_background": "light"
     },
     "output_type": "display_data"
    }
   ],
   "source": [
    "norm_scores = [-r[0] if isinstance(r, list)  else -r for r in results_df.fun[results_df.success == True]]\n",
    "plt.scatter(norm_scores, results_df[results_df.success == True].score_real_mol)\n",
    "plt.plot([0,300], [0,300], '-r')"
   ]
  },
  {
   "cell_type": "code",
   "execution_count": null,
   "metadata": {},
   "outputs": [],
   "source": []
  },
  {
   "cell_type": "code",
   "execution_count": null,
   "metadata": {},
   "outputs": [],
   "source": []
  },
  {
   "cell_type": "code",
   "execution_count": 18,
   "metadata": {},
   "outputs": [
    {
     "data": {
      "text/html": [
       "<div>\n",
       "<style scoped>\n",
       "    .dataframe tbody tr th:only-of-type {\n",
       "        vertical-align: middle;\n",
       "    }\n",
       "\n",
       "    .dataframe tbody tr th {\n",
       "        vertical-align: top;\n",
       "    }\n",
       "\n",
       "    .dataframe thead th {\n",
       "        text-align: right;\n",
       "    }\n",
       "</style>\n",
       "<table border=\"1\" class=\"dataframe\">\n",
       "  <thead>\n",
       "    <tr style=\"text-align: right;\">\n",
       "      <th></th>\n",
       "      <th>x</th>\n",
       "      <th>fun</th>\n",
       "      <th>nfev</th>\n",
       "      <th>nit</th>\n",
       "      <th>message</th>\n",
       "      <th>success</th>\n",
       "      <th>jac</th>\n",
       "      <th>rmsd</th>\n",
       "      <th>pdb_id</th>\n",
       "      <th>score_real_mol</th>\n",
       "    </tr>\n",
       "  </thead>\n",
       "  <tbody>\n",
       "    <tr>\n",
       "      <td>0</td>\n",
       "      <td>[1.3748057943281191, -0.4826028014294825, 2.13...</td>\n",
       "      <td>[-364.806770723242]</td>\n",
       "      <td>7362</td>\n",
       "      <td>56</td>\n",
       "      <td>Optimization terminated successfully.</td>\n",
       "      <td>True</td>\n",
       "      <td>[-0.0021884716261411086, -0.001716671249596402...</td>\n",
       "      <td>1.062297</td>\n",
       "      <td>3wf6</td>\n",
       "      <td>627.400509</td>\n",
       "    </tr>\n",
       "    <tr>\n",
       "      <td>1</td>\n",
       "      <td>[3.141592653589793, -1.4331719131845528, -2.52...</td>\n",
       "      <td>[-493.99769349980284]</td>\n",
       "      <td>117589</td>\n",
       "      <td>500</td>\n",
       "      <td>Maximum number of iterations has been exceeded.</td>\n",
       "      <td>False</td>\n",
       "      <td>[-0.6910909178259317, 0.0010231815394945443, -...</td>\n",
       "      <td>3.542217</td>\n",
       "      <td>4b9z</td>\n",
       "      <td>782.277607</td>\n",
       "    </tr>\n",
       "    <tr>\n",
       "      <td>2</td>\n",
       "      <td>[-2.109265052871724, 0.3173394855975662, -2.09...</td>\n",
       "      <td>[-1162.5185396000136]</td>\n",
       "      <td>240454</td>\n",
       "      <td>500</td>\n",
       "      <td>Maximum number of iterations has been exceeded.</td>\n",
       "      <td>False</td>\n",
       "      <td>[31.426748137164395, 24.671612663951237, -32.6...</td>\n",
       "      <td>3.126936</td>\n",
       "      <td>1m0b</td>\n",
       "      <td>1604.583213</td>\n",
       "    </tr>\n",
       "    <tr>\n",
       "      <td>3</td>\n",
       "      <td>[-0.15389043897876434, -3.020332654441904, 1.7...</td>\n",
       "      <td>[-74.78615502978923]</td>\n",
       "      <td>3666</td>\n",
       "      <td>33</td>\n",
       "      <td>Optimization terminated successfully.</td>\n",
       "      <td>True</td>\n",
       "      <td>[-0.00011368683772161603, 1.1368683772161603e-...</td>\n",
       "      <td>0.053483</td>\n",
       "      <td>2rk7</td>\n",
       "      <td>60.809820</td>\n",
       "    </tr>\n",
       "    <tr>\n",
       "      <td>4</td>\n",
       "      <td>[-0.8998916306504124, -0.8213899634576136, -0....</td>\n",
       "      <td>[-422.6319121543464]</td>\n",
       "      <td>34527</td>\n",
       "      <td>135</td>\n",
       "      <td>Optimization terminated successfully.</td>\n",
       "      <td>True</td>\n",
       "      <td>[-0.0023362645151792094, 0.01262492332898546, ...</td>\n",
       "      <td>4.171069</td>\n",
       "      <td>4wkp</td>\n",
       "      <td>273.228510</td>\n",
       "    </tr>\n",
       "  </tbody>\n",
       "</table>\n",
       "</div>"
      ],
      "text/plain": [
       "                                                   x                    fun  \\\n",
       "0  [1.3748057943281191, -0.4826028014294825, 2.13...    [-364.806770723242]   \n",
       "1  [3.141592653589793, -1.4331719131845528, -2.52...  [-493.99769349980284]   \n",
       "2  [-2.109265052871724, 0.3173394855975662, -2.09...  [-1162.5185396000136]   \n",
       "3  [-0.15389043897876434, -3.020332654441904, 1.7...   [-74.78615502978923]   \n",
       "4  [-0.8998916306504124, -0.8213899634576136, -0....   [-422.6319121543464]   \n",
       "\n",
       "     nfev  nit                                          message  success  \\\n",
       "0    7362   56            Optimization terminated successfully.     True   \n",
       "1  117589  500  Maximum number of iterations has been exceeded.    False   \n",
       "2  240454  500  Maximum number of iterations has been exceeded.    False   \n",
       "3    3666   33            Optimization terminated successfully.     True   \n",
       "4   34527  135            Optimization terminated successfully.     True   \n",
       "\n",
       "                                                 jac      rmsd pdb_id  \\\n",
       "0  [-0.0021884716261411086, -0.001716671249596402...  1.062297   3wf6   \n",
       "1  [-0.6910909178259317, 0.0010231815394945443, -...  3.542217   4b9z   \n",
       "2  [31.426748137164395, 24.671612663951237, -32.6...  3.126936   1m0b   \n",
       "3  [-0.00011368683772161603, 1.1368683772161603e-...  0.053483   2rk7   \n",
       "4  [-0.0023362645151792094, 0.01262492332898546, ...  4.171069   4wkp   \n",
       "\n",
       "   score_real_mol  \n",
       "0      627.400509  \n",
       "1      782.277607  \n",
       "2     1604.583213  \n",
       "3       60.809820  \n",
       "4      273.228510  "
      ]
     },
     "execution_count": 18,
     "metadata": {},
     "output_type": "execute_result"
    }
   ],
   "source": [
    "d = torch.load('DockingResults_TestSet.chk')\n",
    "reults_df = pd.DataFrame.from_dict(d)\n",
    "reults_df.head()"
   ]
  },
  {
   "cell_type": "code",
   "execution_count": null,
   "metadata": {},
   "outputs": [],
   "source": []
  },
  {
   "cell_type": "code",
   "execution_count": null,
   "metadata": {},
   "outputs": [],
   "source": [
    "#%%time\n",
    "#loader = DataLoader(db_complex_train[5:1000], batch_size=1, shuffle=False)\n",
    "#data =  next(iter(loader))\n",
    "\n",
    "pdb_id = data[3][0]\n",
    "real_mol = Chem.MolFromMol2File('data/pdbbind_v2019_other_refined/' + pdb_id + '/' + pdb_id +'_ligand.mol2')\n",
    "mol = Chem.MolFromSmiles(Chem.MolToSmiles(Chem.MolFromMol2File('data/pdbbind_v2019_other_refined/' + pdb_id + '/' + pdb_id +'_ligand.mol2')))\n",
    "Chem.rdchem.Mol.Compute2DCoords(mol)\n",
    "Chem.rdMolTransforms.CanonicalizeConformer(mol.GetConformer())\n",
    "mol = Chem.AddHs(mol)\n",
    "AllChem.EmbedMolecule(mol, randomSeed=123)\n",
    "AllChem.MMFFOptimizeMolecule(mol)\n",
    "mol = Chem.RemoveHs(mol)\n",
    "\n",
    "\n",
    "opt = optimze_conformation(mol=mol, target_coords=torch.tensor([0]), n_particles=1, pi=torch.tensor([0]), mu=torch.tensor([0]), sigma=torch.tensor([0]))\n",
    "\n",
    "\n",
    "opt_mol = copy.copy(mol)\n",
    "values = t['x']\n",
    "        \n",
    "# aplply rotations\n",
    "[opt.SetDihedral(opt_mol.GetConformer(), opt.rotable_bonds[r], values[6+r]) for r in range(len(opt.rotable_bonds))]\n",
    "        \n",
    "# aplply transformation matrix\n",
    "rdMolTransforms.TransformConformer(opt_mol.GetConformer(), opt.GetTransformationMatrix(values[:6]))\n",
    "opt_mol\n"
   ]
  },
  {
   "cell_type": "code",
   "execution_count": null,
   "metadata": {},
   "outputs": [],
   "source": [
    "import py3Dmol\n",
    "p = py3Dmol.view(width=400,height=400)\n",
    "p.addModel(Chem.MolToMolBlock(opt_mol),'sdf')\n",
    "p.addModel(Chem.MolToMolBlock(real_mol),'sdf')\n",
    "p.setStyle({'stick':{}})\n",
    "p.zoomTo()\n",
    "\n",
    "p.show()"
   ]
  },
  {
   "cell_type": "code",
   "execution_count": null,
   "metadata": {},
   "outputs": [],
   "source": []
  },
  {
   "cell_type": "code",
   "execution_count": null,
   "metadata": {},
   "outputs": [],
   "source": []
  }
 ],
 "metadata": {
  "kernelspec": {
   "display_name": "Python [conda env:python36]",
   "language": "python",
   "name": "conda-env-python36-py"
  },
  "language_info": {
   "codemirror_mode": {
    "name": "ipython",
    "version": 3
   },
   "file_extension": ".py",
   "mimetype": "text/x-python",
   "name": "python",
   "nbconvert_exporter": "python",
   "pygments_lexer": "ipython3",
   "version": "3.6.8"
  }
 },
 "nbformat": 4,
 "nbformat_minor": 4
}
