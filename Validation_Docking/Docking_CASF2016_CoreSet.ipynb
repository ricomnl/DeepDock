{
 "cells": [
  {
   "cell_type": "code",
   "execution_count": 1,
   "metadata": {},
   "outputs": [
    {
     "name": "stderr",
     "output_type": "stream",
     "text": [
      "RDKit WARNING: [16:13:50] Enabling RDKit 2019.09.1 jupyter extensions\n"
     ]
    }
   ],
   "source": [
    "from torch_geometric.data import DataLoader\n",
    "import torch.distributions as D\n",
    "import matplotlib.pyplot as plt\n",
    "from rdkit import Chem, DataStructs\n",
    "from rdkit.Chem import AllChem, Draw, Descriptors, rdMolTransforms\n",
    "from rdkit import rdBase\n",
    "import glob\n",
    "import os\n",
    "\n",
    "from deepdock.utils.distributions import *\n",
    "from deepdock.utils.data import *\n",
    "from deepdock.models import *\n",
    "\n",
    "from deepdock.docking_function import optimze_conformation\n",
    "from scipy.optimize import basinhopping, brute, differential_evolution\n",
    "import copy\n",
    "\n",
    "# set the random seeds for reproducibility\n",
    "np.random.seed(123)\n",
    "torch.cuda.manual_seed_all(123)\n",
    "torch.manual_seed(123)\n",
    "\n",
    "%matplotlib inline"
   ]
  },
  {
   "cell_type": "code",
   "execution_count": 2,
   "metadata": {},
   "outputs": [
    {
     "name": "stdout",
     "output_type": "stream",
     "text": [
      "Complexes in CASF2016 Core Set: 285\n",
      "CPU times: user 141 ms, sys: 42.4 ms, total: 183 ms\n",
      "Wall time: 185 ms\n"
     ]
    }
   ],
   "source": [
    "%%time\n",
    "db_complex = PDBbind_complex_dataset(data_path='../data/dataset_CASF-2016_285.tar', \n",
    "                                     min_target_nodes=None, max_ligand_nodes=None)\n",
    "print('Complexes in CASF2016 Core Set:', len(db_complex))\n"
   ]
  },
  {
   "cell_type": "code",
   "execution_count": 3,
   "metadata": {},
   "outputs": [
    {
     "data": {
      "text/plain": [
       "<All keys matched successfully>"
      ]
     },
     "execution_count": 3,
     "metadata": {},
     "output_type": "execute_result"
    }
   ],
   "source": [
    "#device = 'cuda' if torch.cuda.is_available() else 'cpu'\n",
    "device = 'cpu'\n",
    "\n",
    "ligand_model = LigandNet(28, residual_layers=10, dropout_rate=0.10)\n",
    "target_model = TargetNet(4, residual_layers=10, dropout_rate=0.10)\n",
    "model = DeepDock(ligand_model, target_model, hidden_dim=64, n_gaussians=10, dropout_rate=0.10, dist_threhold=7.).to(device)\n",
    "\n",
    "checkpoint = torch.load('../Trained_models/DeepDock_pdbbindv2019_13K_minTestLoss.chk')\n",
    "model.load_state_dict(checkpoint['model_state_dict']) "
   ]
  },
  {
   "cell_type": "raw",
   "metadata": {},
   "source": [
    "    data = next(iter(loader))\n",
    "    dist_threshold=3.\n",
    "    popsize=150\n",
    "    np.random.seed(123)\n",
    "    torch.cuda.manual_seed_all(123)\n",
    "    torch.manual_seed(123)\n",
    "    \n",
    "    model.eval()\n",
    "    ligand, target, activity, pdbid = data\n",
    "    ligand, target = ligand.to(device), target.to(device)\n",
    "    pi, sigma, mu, dist, atom_types, bond_types, batch = model(ligand, target)\n",
    "    \n",
    "    pdb_id = pdbid[0]\n",
    "    real_mol = Chem.MolFromMol2File('../../DeepDock/data/CASF-2016/coreset/' + pdb_id + '/' + pdb_id +'_ligand.mol2',\n",
    "                                    sanitize=False, cleanupSubstructures=False, removeHs=False)\n",
    "    opt = optimze_conformation(mol=real_mol, target_coords=target.pos.cpu(), n_particles=1, \n",
    "                               pi=pi.cpu(), mu=mu.cpu(), sigma=sigma.cpu(), dist_threshold=dist_threshold)\n",
    "    \n",
    "    #Define bounds\n",
    "    max_bound = np.concatenate([[np.pi]*3, target.pos.cpu().max(0)[0].numpy(), [np.pi]*len(opt.rotable_bonds)], axis=0)\n",
    "    min_bound = np.concatenate([[-np.pi]*3, target.pos.cpu().min(0)[0].numpy(), [-np.pi]*len(opt.rotable_bonds)], axis=0)\n",
    "    bounds = (min_bound, max_bound)\n",
    "    \n",
    "    # Optimize conformations\n",
    "    result = differential_evolution(opt.score_conformation, list(zip(bounds[0],bounds[1])), maxiter=500, \n",
    "                                    popsize=int(np.ceil(popsize/(len(opt.rotable_bonds)+6))), \n",
    "                                    mutation=(0.5, 1), recombination=0.8, disp=False, seed=123)"
   ]
  },
  {
   "cell_type": "code",
   "execution_count": 4,
   "metadata": {},
   "outputs": [],
   "source": [
    "def dock_compound(data, dist_threshold=3., popsize=150):\n",
    "    np.random.seed(123)\n",
    "    torch.cuda.manual_seed_all(123)\n",
    "    torch.manual_seed(123)\n",
    "    \n",
    "    model.eval()\n",
    "    ligand, target, activity, pdbid = data\n",
    "    ligand, target = ligand.to(device), target.to(device)\n",
    "    pi, sigma, mu, dist, atom_types, bond_types, batch = model(ligand, target)\n",
    "    \n",
    "    pdb_id = pdbid[0]\n",
    "    real_mol = Chem.MolFromMol2File('../../DeepDock/data/CASF-2016/coreset/' + pdb_id + '/' + pdb_id +'_ligand.mol2',\n",
    "                                    sanitize=False, cleanupSubstructures=False, removeHs=False)\n",
    "    opt = optimze_conformation(mol=real_mol, target_coords=target.pos.cpu(), n_particles=1, \n",
    "                               pi=pi.cpu(), mu=mu.cpu(), sigma=sigma.cpu(), dist_threshold=dist_threshold)\n",
    "    \n",
    "    #Define bounds\n",
    "    max_bound = np.concatenate([[np.pi]*3, target.pos.cpu().max(0)[0].numpy(), [np.pi]*len(opt.rotable_bonds)], axis=0)\n",
    "    min_bound = np.concatenate([[-np.pi]*3, target.pos.cpu().min(0)[0].numpy(), [-np.pi]*len(opt.rotable_bonds)], axis=0)\n",
    "    bounds = (min_bound, max_bound)\n",
    "    \n",
    "    # Optimize conformations\n",
    "    result = differential_evolution(opt.score_conformation, list(zip(bounds[0],bounds[1])), maxiter=500, \n",
    "                                    popsize=int(np.ceil(popsize/(len(opt.rotable_bonds)+6))),\n",
    "                                    mutation=(0.5, 1), recombination=0.8, disp=False, seed=123)\n",
    "    \n",
    "    # Get optimized molecule and RMSD\n",
    "    opt_mol = opt.apply_changes(opt.mol, result['x'])\n",
    "    ligCoords = torch.stack([torch.tensor(m.GetConformer().GetPositions()[opt.noHidx]) for m in [opt_mol]])\n",
    "    dist = opt.compute_euclidean_distances_matrix(ligCoords, opt.targetCoords).flatten().unsqueeze(1)\n",
    "    result['num_MixOfGauss'] = torch.where(dist <= dist_threshold)[0].size(0)\n",
    "    result['rmsd'] = Chem.rdMolAlign.AlignMol(opt_mol, real_mol, atomMap=list(zip(opt.noHidx,opt.noHidx)))\n",
    "    result['pdb_id'] = pdb_id\n",
    "    \n",
    "    # Get score of real conformation\n",
    "    ligCoords = torch.stack([torch.tensor(m.GetConformer().GetPositions()[opt.noHidx]) for m in [real_mol]])\n",
    "    dist = opt.compute_euclidean_distances_matrix(ligCoords, opt.targetCoords).flatten().unsqueeze(1)\n",
    "    score_real_mol = opt.calculate_probablity(opt.pi, opt.sigma, opt.mu, dist)\n",
    "    score_real_mol[torch.where(dist > dist_threshold)[0]] = 0.\n",
    "    result['score_real_mol'] = pdb_id = score_real_mol.reshape(opt.n_particles, -1).sum(1).item()\n",
    "    del ligCoords, dist, score_real_mol\n",
    "    \n",
    "    result['pkx'] = data[2][0].item()\n",
    "    result['num_atoms'] = real_mol.GetNumHeavyAtoms()\n",
    "    result['num_rotbonds'] = len(opt.rotable_bonds)\n",
    "    result['rotbonds'] = opt.rotable_bonds\n",
    "    #result['num_MixOfGauss'] = mu.size(0)\n",
    "    \n",
    "    return result"
   ]
  },
  {
   "cell_type": "code",
   "execution_count": 5,
   "metadata": {},
   "outputs": [
    {
     "name": "stdout",
     "output_type": "stream",
     "text": [
      "CPU times: user 1d 12h 54min 3s, sys: 46min 14s, total: 1d 13h 40min 18s\n",
      "Wall time: 9h 59min 55s\n"
     ]
    }
   ],
   "source": [
    "%%time\n",
    "loader = DataLoader(db_complex, batch_size=1, shuffle=False)\n",
    "\n",
    "results = []\n",
    "i = 0\n",
    "for data in loader:\n",
    "    try:\n",
    "        results.append(dock_compound(data))\n",
    "        d = {}\n",
    "        for k in results[0].keys():\n",
    "            if k != 'jac':\n",
    "                d[k] = tuple(d[k] for d in results)\n",
    "        torch.save(d, 'DockingResults_CASF2016_CoreSet.chk')\n",
    "        results_df = pd.DataFrame.from_dict(d)\n",
    "        results_df.to_csv('DockingResults_CASF2016_CoreSet.csv', index=False) \n",
    "        i += 1\n",
    "    except:\n",
    "        print(i, data[3])\n",
    "        #break\n",
    "        i += 1"
   ]
  },
  {
   "cell_type": "code",
   "execution_count": null,
   "metadata": {},
   "outputs": [],
   "source": []
  },
  {
   "cell_type": "code",
   "execution_count": 6,
   "metadata": {},
   "outputs": [
    {
     "data": {
      "text/html": [
       "<div>\n",
       "<style scoped>\n",
       "    .dataframe tbody tr th:only-of-type {\n",
       "        vertical-align: middle;\n",
       "    }\n",
       "\n",
       "    .dataframe tbody tr th {\n",
       "        vertical-align: top;\n",
       "    }\n",
       "\n",
       "    .dataframe thead th {\n",
       "        text-align: right;\n",
       "    }\n",
       "</style>\n",
       "<table border=\"1\" class=\"dataframe\">\n",
       "  <thead>\n",
       "    <tr style=\"text-align: right;\">\n",
       "      <th></th>\n",
       "      <th>x</th>\n",
       "      <th>fun</th>\n",
       "      <th>nfev</th>\n",
       "      <th>nit</th>\n",
       "      <th>message</th>\n",
       "      <th>success</th>\n",
       "      <th>num_MixOfGauss</th>\n",
       "      <th>rmsd</th>\n",
       "      <th>pdb_id</th>\n",
       "      <th>score_real_mol</th>\n",
       "      <th>pkx</th>\n",
       "      <th>num_atoms</th>\n",
       "      <th>num_rotbonds</th>\n",
       "      <th>rotbonds</th>\n",
       "    </tr>\n",
       "  </thead>\n",
       "  <tbody>\n",
       "    <tr>\n",
       "      <td>0</td>\n",
       "      <td>[1.5063067262725696, 0.2133704428551216, 1.508...</td>\n",
       "      <td>[-70.16544231921738]</td>\n",
       "      <td>38392</td>\n",
       "      <td>237</td>\n",
       "      <td>Optimization terminated successfully.</td>\n",
       "      <td>True</td>\n",
       "      <td>409</td>\n",
       "      <td>2.099727</td>\n",
       "      <td>4k18</td>\n",
       "      <td>64.253744</td>\n",
       "      <td>NaN</td>\n",
       "      <td>29</td>\n",
       "      <td>5</td>\n",
       "      <td>[(7, 6, 5, 0), (8, 7, 6, 5), (11, 13, 16, 17),...</td>\n",
       "    </tr>\n",
       "    <tr>\n",
       "      <td>1</td>\n",
       "      <td>[-3.131853024748477, -0.7319495938580236, 3.08...</td>\n",
       "      <td>[-97.24881673780266]</td>\n",
       "      <td>15747</td>\n",
       "      <td>98</td>\n",
       "      <td>Optimization terminated successfully.</td>\n",
       "      <td>True</td>\n",
       "      <td>375</td>\n",
       "      <td>1.293288</td>\n",
       "      <td>4qac</td>\n",
       "      <td>83.284421</td>\n",
       "      <td>NaN</td>\n",
       "      <td>24</td>\n",
       "      <td>3</td>\n",
       "      <td>[(8, 7, 6, 0), (15, 14, 13, 8), (16, 17, 18, 19)]</td>\n",
       "    </tr>\n",
       "    <tr>\n",
       "      <td>2</td>\n",
       "      <td>[-2.837375698413872, 1.920415677247661, -2.234...</td>\n",
       "      <td>[-168.15472849991892]</td>\n",
       "      <td>22725</td>\n",
       "      <td>144</td>\n",
       "      <td>Optimization terminated successfully.</td>\n",
       "      <td>True</td>\n",
       "      <td>262</td>\n",
       "      <td>1.463300</td>\n",
       "      <td>1o3f</td>\n",
       "      <td>187.713267</td>\n",
       "      <td>NaN</td>\n",
       "      <td>25</td>\n",
       "      <td>3</td>\n",
       "      <td>[(1, 0, 6, 7), (13, 12, 11, 9), (20, 19, 16, 15)]</td>\n",
       "    </tr>\n",
       "    <tr>\n",
       "      <td>3</td>\n",
       "      <td>[1.7394099202246427, -2.889091892409308, 0.394...</td>\n",
       "      <td>[-46.61066364180717]</td>\n",
       "      <td>13594</td>\n",
       "      <td>85</td>\n",
       "      <td>Optimization terminated successfully.</td>\n",
       "      <td>True</td>\n",
       "      <td>234</td>\n",
       "      <td>1.207122</td>\n",
       "      <td>4ih7</td>\n",
       "      <td>35.630420</td>\n",
       "      <td>NaN</td>\n",
       "      <td>17</td>\n",
       "      <td>2</td>\n",
       "      <td>[(8, 7, 6, 1), (10, 12, 13, 14)]</td>\n",
       "    </tr>\n",
       "    <tr>\n",
       "      <td>4</td>\n",
       "      <td>[0.2800270507037714, -1.9041352450017086, 1.38...</td>\n",
       "      <td>[-63.59384324866685]</td>\n",
       "      <td>7992</td>\n",
       "      <td>45</td>\n",
       "      <td>Optimization terminated successfully.</td>\n",
       "      <td>True</td>\n",
       "      <td>165</td>\n",
       "      <td>0.000204</td>\n",
       "      <td>3dx1</td>\n",
       "      <td>49.944775</td>\n",
       "      <td>NaN</td>\n",
       "      <td>9</td>\n",
       "      <td>0</td>\n",
       "      <td>[]</td>\n",
       "    </tr>\n",
       "  </tbody>\n",
       "</table>\n",
       "</div>"
      ],
      "text/plain": [
       "                                                   x                    fun  \\\n",
       "0  [1.5063067262725696, 0.2133704428551216, 1.508...   [-70.16544231921738]   \n",
       "1  [-3.131853024748477, -0.7319495938580236, 3.08...   [-97.24881673780266]   \n",
       "2  [-2.837375698413872, 1.920415677247661, -2.234...  [-168.15472849991892]   \n",
       "3  [1.7394099202246427, -2.889091892409308, 0.394...   [-46.61066364180717]   \n",
       "4  [0.2800270507037714, -1.9041352450017086, 1.38...   [-63.59384324866685]   \n",
       "\n",
       "    nfev  nit                                message  success  num_MixOfGauss  \\\n",
       "0  38392  237  Optimization terminated successfully.     True             409   \n",
       "1  15747   98  Optimization terminated successfully.     True             375   \n",
       "2  22725  144  Optimization terminated successfully.     True             262   \n",
       "3  13594   85  Optimization terminated successfully.     True             234   \n",
       "4   7992   45  Optimization terminated successfully.     True             165   \n",
       "\n",
       "       rmsd pdb_id  score_real_mol  pkx  num_atoms  num_rotbonds  \\\n",
       "0  2.099727   4k18       64.253744  NaN         29             5   \n",
       "1  1.293288   4qac       83.284421  NaN         24             3   \n",
       "2  1.463300   1o3f      187.713267  NaN         25             3   \n",
       "3  1.207122   4ih7       35.630420  NaN         17             2   \n",
       "4  0.000204   3dx1       49.944775  NaN          9             0   \n",
       "\n",
       "                                            rotbonds  \n",
       "0  [(7, 6, 5, 0), (8, 7, 6, 5), (11, 13, 16, 17),...  \n",
       "1  [(8, 7, 6, 0), (15, 14, 13, 8), (16, 17, 18, 19)]  \n",
       "2  [(1, 0, 6, 7), (13, 12, 11, 9), (20, 19, 16, 15)]  \n",
       "3                   [(8, 7, 6, 1), (10, 12, 13, 14)]  \n",
       "4                                                 []  "
      ]
     },
     "execution_count": 6,
     "metadata": {},
     "output_type": "execute_result"
    }
   ],
   "source": [
    "\n",
    "\n",
    "\n",
    "\n",
    "[if isinstance(r, list): -r[0] else -r for r in results_df.fun]\n",
    "\n",
    "results_df.head()"
   ]
  },
  {
   "cell_type": "code",
   "execution_count": 38,
   "metadata": {},
   "outputs": [
    {
     "data": {
      "text/plain": [
       "(array([78., 49., 28., 20., 15.,  7., 12.,  8.,  4.,  4.]),\n",
       " array([ 28. ,  74.8, 121.6, 168.4, 215.2, 262. , 308.8, 355.6, 402.4,\n",
       "        449.2, 496. ]),\n",
       " <a list of 10 Patch objects>)"
      ]
     },
     "execution_count": 38,
     "metadata": {},
     "output_type": "execute_result"
    },
    {
     "data": {
      "image/png": "[encoded data removed]",
      "text/plain": [
       "<Figure size 432x288 with 1 Axes>"
      ]
     },
     "metadata": {
      "needs_background": "light"
     },
     "output_type": "display_data"
    }
   ],
   "source": [
    "plt.hist(results_df['nit'][results_df.success == True])\n",
    "#plt.hist(results_df['nit'][results_df.success == False])"
   ]
  },
  {
   "cell_type": "code",
   "execution_count": 49,
   "metadata": {},
   "outputs": [
    {
     "data": {
      "text/plain": [
       "(array([34., 27., 53., 43., 39., 13.,  2.,  7.,  3.,  4.]),\n",
       " array([6.74349576e-07, 4.56029868e-01, 9.12059061e-01, 1.36808825e+00,\n",
       "        1.82411745e+00, 2.28014664e+00, 2.73617584e+00, 3.19220503e+00,\n",
       "        3.64823422e+00, 4.10426342e+00, 4.56029261e+00]),\n",
       " <a list of 10 Patch objects>)"
      ]
     },
     "execution_count": 49,
     "metadata": {},
     "output_type": "execute_result"
    },
    {
     "data": {
      "image/png": "[encoded data removed]",
      "text/plain": [
       "<Figure size 432x288 with 1 Axes>"
      ]
     },
     "metadata": {
      "needs_background": "light"
     },
     "output_type": "display_data"
    }
   ],
   "source": [
    "plt.hist(results_df['rmsd'][results_df.success == False])\n",
    "plt.hist(results_df['rmsd'][results_df.success == True])\n",
    "#plt.hist(results_df['rmsd'][results_df.success == False])"
   ]
  },
  {
   "cell_type": "code",
   "execution_count": 40,
   "metadata": {},
   "outputs": [
    {
     "name": "stdout",
     "output_type": "stream",
     "text": [
      "Mean RMSD of all compounds: 1.8683920926018736\n",
      "Mean RMSD of compounds with succesful optimization: 1.4235487671127272\n"
     ]
    }
   ],
   "source": [
    "print('Mean RMSD of all compounds:', results_df.rmsd.mean())\n",
    "print('Mean RMSD of compounds with succesful optimization:', results_df[results_df.success == True].rmsd.mean())"
   ]
  },
  {
   "cell_type": "code",
   "execution_count": 24,
   "metadata": {},
   "outputs": [
    {
     "data": {
      "text/plain": [
       "<matplotlib.collections.PathCollection at 0x7f324da89320>"
      ]
     },
     "execution_count": 24,
     "metadata": {},
     "output_type": "execute_result"
    },
    {
     "data": {
      "image/png": "[encoded data removed]",
      "text/plain": [
       "<Figure size 432x288 with 1 Axes>"
      ]
     },
     "metadata": {
      "needs_background": "light"
     },
     "output_type": "display_data"
    }
   ],
   "source": [
    "norm_scores = [-r[0] if isinstance(r, list)  else -r for r in results_df.fun[results_df.success == True]]\n",
    "plt.scatter(norm_scores, results_df[results_df.success == True].pkx)"
   ]
  },
  {
   "cell_type": "code",
   "execution_count": 26,
   "metadata": {},
   "outputs": [
    {
     "data": {
      "text/plain": [
       "<matplotlib.collections.PathCollection at 0x7f31ff44c6a0>"
      ]
     },
     "execution_count": 26,
     "metadata": {},
     "output_type": "execute_result"
    },
    {
     "data": {
      "image/png": "[encoded data removed]",
      "text/plain": [
       "<Figure size 432x288 with 1 Axes>"
      ]
     },
     "metadata": {
      "needs_background": "light"
     },
     "output_type": "display_data"
    }
   ],
   "source": [
    "norm_scores = [-r[0] if isinstance(r, list)  else -r for r in results_df.fun[results_df.success == True]]\n",
    "plt.scatter(norm_scores, results_df[results_df.success == True].pkx)"
   ]
  },
  {
   "cell_type": "code",
   "execution_count": 27,
   "metadata": {},
   "outputs": [
    {
     "data": {
      "text/plain": [
       "<matplotlib.collections.PathCollection at 0x7f31ff418438>"
      ]
     },
     "execution_count": 27,
     "metadata": {},
     "output_type": "execute_result"
    },
    {
     "data": {
      "image/png": "[encoded data removed]",
      "text/plain": [
       "<Figure size 432x288 with 1 Axes>"
      ]
     },
     "metadata": {
      "needs_background": "light"
     },
     "output_type": "display_data"
    }
   ],
   "source": [
    "norm_scores = [-r[0] if isinstance(r, list)  else -r for r in results_df.fun[results_df.success == True]]\n",
    "plt.scatter(results_df[results_df.success == True].num_rotbonds, norm_scores)"
   ]
  },
  {
   "cell_type": "code",
   "execution_count": 28,
   "metadata": {},
   "outputs": [
    {
     "data": {
      "text/plain": [
       "<matplotlib.collections.PathCollection at 0x7f31ff3f2048>"
      ]
     },
     "execution_count": 28,
     "metadata": {},
     "output_type": "execute_result"
    },
    {
     "data": {
      "image/png": "[encoded data removed]",
      "text/plain": [
       "<Figure size 432x288 with 1 Axes>"
      ]
     },
     "metadata": {
      "needs_background": "light"
     },
     "output_type": "display_data"
    }
   ],
   "source": [
    "norm_scores = [-r[0] if isinstance(r, list)  else -r for r in results_df.fun[results_df.success == True]]\n",
    "plt.scatter(results_df[results_df.success == True].num_atoms, norm_scores)"
   ]
  },
  {
   "cell_type": "code",
   "execution_count": 43,
   "metadata": {},
   "outputs": [
    {
     "data": {
      "text/plain": [
       "<matplotlib.collections.PathCollection at 0x7f31ff088978>"
      ]
     },
     "execution_count": 43,
     "metadata": {},
     "output_type": "execute_result"
    },
    {
     "data": {
      "image/png": "[encoded data removed]",
      "text/plain": [
       "<Figure size 432x288 with 1 Axes>"
      ]
     },
     "metadata": {
      "needs_background": "light"
     },
     "output_type": "display_data"
    }
   ],
   "source": [
    "norm_scores = [-r[0] if isinstance(r, list)  else -r for r in results_df.fun[results_df.success == True]]\n",
    "plt.scatter(results_df[results_df.success == True].num_atoms, results_df[results_df.success == True].rmsd)\n",
    "plt.scatter(results_df[results_df.success == False].num_atoms, results_df[results_df.success == False].rmsd)"
   ]
  },
  {
   "cell_type": "code",
   "execution_count": 42,
   "metadata": {},
   "outputs": [
    {
     "data": {
      "text/plain": [
       "<matplotlib.collections.PathCollection at 0x7f31ff0fb2e8>"
      ]
     },
     "execution_count": 42,
     "metadata": {},
     "output_type": "execute_result"
    },
    {
     "data": {
      "image/png": "[encoded data removed]",
      "text/plain": [
       "<Figure size 432x288 with 1 Axes>"
      ]
     },
     "metadata": {
      "needs_background": "light"
     },
     "output_type": "display_data"
    }
   ],
   "source": [
    "plt.scatter(results_df[results_df.success == True].num_rotbonds, results_df[results_df.success == True].rmsd)\n",
    "plt.scatter(results_df[results_df.success == False].num_rotbonds, results_df[results_df.success == False].rmsd)"
   ]
  },
  {
   "cell_type": "code",
   "execution_count": 45,
   "metadata": {},
   "outputs": [
    {
     "data": {
      "text/plain": [
       "[<matplotlib.lines.Line2D at 0x7f31ff010208>]"
      ]
     },
     "execution_count": 45,
     "metadata": {},
     "output_type": "execute_result"
    },
    {
     "data": {
      "image/png": "[encoded data removed]",
      "text/plain": [
       "<Figure size 432x288 with 1 Axes>"
      ]
     },
     "metadata": {
      "needs_background": "light"
     },
     "output_type": "display_data"
    }
   ],
   "source": [
    "norm_scores = [-r[0] if isinstance(r, list)  else -r for r in results_df.fun[results_df.success == True]]\n",
    "plt.scatter(norm_scores, results_df[results_df.success == True].score_real_mol)\n",
    "plt.plot([0,300], [0,300], '-r')"
   ]
  },
  {
   "cell_type": "code",
   "execution_count": null,
   "metadata": {},
   "outputs": [],
   "source": []
  },
  {
   "cell_type": "code",
   "execution_count": null,
   "metadata": {},
   "outputs": [],
   "source": []
  },
  {
   "cell_type": "code",
   "execution_count": 18,
   "metadata": {},
   "outputs": [
    {
     "data": {
      "text/html": [
       "<div>\n",
       "<style scoped>\n",
       "    .dataframe tbody tr th:only-of-type {\n",
       "        vertical-align: middle;\n",
       "    }\n",
       "\n",
       "    .dataframe tbody tr th {\n",
       "        vertical-align: top;\n",
       "    }\n",
       "\n",
       "    .dataframe thead th {\n",
       "        text-align: right;\n",
       "    }\n",
       "</style>\n",
       "<table border=\"1\" class=\"dataframe\">\n",
       "  <thead>\n",
       "    <tr style=\"text-align: right;\">\n",
       "      <th></th>\n",
       "      <th>x</th>\n",
       "      <th>fun</th>\n",
       "      <th>nfev</th>\n",
       "      <th>nit</th>\n",
       "      <th>message</th>\n",
       "      <th>success</th>\n",
       "      <th>jac</th>\n",
       "      <th>rmsd</th>\n",
       "      <th>pdb_id</th>\n",
       "      <th>score_real_mol</th>\n",
       "    </tr>\n",
       "  </thead>\n",
       "  <tbody>\n",
       "    <tr>\n",
       "      <td>0</td>\n",
       "      <td>[1.3748057943281191, -0.4826028014294825, 2.13...</td>\n",
       "      <td>[-364.806770723242]</td>\n",
       "      <td>7362</td>\n",
       "      <td>56</td>\n",
       "      <td>Optimization terminated successfully.</td>\n",
       "      <td>True</td>\n",
       "      <td>[-0.0021884716261411086, -0.001716671249596402...</td>\n",
       "      <td>1.062297</td>\n",
       "      <td>3wf6</td>\n",
       "      <td>627.400509</td>\n",
       "    </tr>\n",
       "    <tr>\n",
       "      <td>1</td>\n",
       "      <td>[3.141592653589793, -1.4331719131845528, -2.52...</td>\n",
       "      <td>[-493.99769349980284]</td>\n",
       "      <td>117589</td>\n",
       "      <td>500</td>\n",
       "      <td>Maximum number of iterations has been exceeded.</td>\n",
       "      <td>False</td>\n",
       "      <td>[-0.6910909178259317, 0.0010231815394945443, -...</td>\n",
       "      <td>3.542217</td>\n",
       "      <td>4b9z</td>\n",
       "      <td>782.277607</td>\n",
       "    </tr>\n",
       "    <tr>\n",
       "      <td>2</td>\n",
       "      <td>[-2.109265052871724, 0.3173394855975662, -2.09...</td>\n",
       "      <td>[-1162.5185396000136]</td>\n",
       "      <td>240454</td>\n",
       "      <td>500</td>\n",
       "      <td>Maximum number of iterations has been exceeded.</td>\n",
       "      <td>False</td>\n",
       "      <td>[31.426748137164395, 24.671612663951237, -32.6...</td>\n",
       "      <td>3.126936</td>\n",
       "      <td>1m0b</td>\n",
       "      <td>1604.583213</td>\n",
       "    </tr>\n",
       "    <tr>\n",
       "      <td>3</td>\n",
       "      <td>[-0.15389043897876434, -3.020332654441904, 1.7...</td>\n",
       "      <td>[-74.78615502978923]</td>\n",
       "      <td>3666</td>\n",
       "      <td>33</td>\n",
       "      <td>Optimization terminated successfully.</td>\n",
       "      <td>True</td>\n",
       "      <td>[-0.00011368683772161603, 1.1368683772161603e-...</td>\n",
       "      <td>0.053483</td>\n",
       "      <td>2rk7</td>\n",
       "      <td>60.809820</td>\n",
       "    </tr>\n",
       "    <tr>\n",
       "      <td>4</td>\n",
       "      <td>[-0.8998916306504124, -0.8213899634576136, -0....</td>\n",
       "      <td>[-422.6319121543464]</td>\n",
       "      <td>34527</td>\n",
       "      <td>135</td>\n",
       "      <td>Optimization terminated successfully.</td>\n",
       "      <td>True</td>\n",
       "      <td>[-0.0023362645151792094, 0.01262492332898546, ...</td>\n",
       "      <td>4.171069</td>\n",
       "      <td>4wkp</td>\n",
       "      <td>273.228510</td>\n",
       "    </tr>\n",
       "  </tbody>\n",
       "</table>\n",
       "</div>"
      ],
      "text/plain": [
       "                                                   x                    fun  \\\n",
       "0  [1.3748057943281191, -0.4826028014294825, 2.13...    [-364.806770723242]   \n",
       "1  [3.141592653589793, -1.4331719131845528, -2.52...  [-493.99769349980284]   \n",
       "2  [-2.109265052871724, 0.3173394855975662, -2.09...  [-1162.5185396000136]   \n",
       "3  [-0.15389043897876434, -3.020332654441904, 1.7...   [-74.78615502978923]   \n",
       "4  [-0.8998916306504124, -0.8213899634576136, -0....   [-422.6319121543464]   \n",
       "\n",
       "     nfev  nit                                          message  success  \\\n",
       "0    7362   56            Optimization terminated successfully.     True   \n",
       "1  117589  500  Maximum number of iterations has been exceeded.    False   \n",
       "2  240454  500  Maximum number of iterations has been exceeded.    False   \n",
       "3    3666   33            Optimization terminated successfully.     True   \n",
       "4   34527  135            Optimization terminated successfully.     True   \n",
       "\n",
       "                                                 jac      rmsd pdb_id  \\\n",
       "0  [-0.0021884716261411086, -0.001716671249596402...  1.062297   3wf6   \n",
       "1  [-0.6910909178259317, 0.0010231815394945443, -...  3.542217   4b9z   \n",
       "2  [31.426748137164395, 24.671612663951237, -32.6...  3.126936   1m0b   \n",
       "3  [-0.00011368683772161603, 1.1368683772161603e-...  0.053483   2rk7   \n",
       "4  [-0.0023362645151792094, 0.01262492332898546, ...  4.171069   4wkp   \n",
       "\n",
       "   score_real_mol  \n",
       "0      627.400509  \n",
       "1      782.277607  \n",
       "2     1604.583213  \n",
       "3       60.809820  \n",
       "4      273.228510  "
      ]
     },
     "execution_count": 18,
     "metadata": {},
     "output_type": "execute_result"
    }
   ],
   "source": [
    "d = torch.load('DockingResults_TestSet.chk')\n",
    "reults_df = pd.DataFrame.from_dict(d)\n",
    "reults_df.head()"
   ]
  },
  {
   "cell_type": "code",
   "execution_count": null,
   "metadata": {},
   "outputs": [],
   "source": []
  },
  {
   "cell_type": "code",
   "execution_count": null,
   "metadata": {},
   "outputs": [],
   "source": [
    "#%%time\n",
    "#loader = DataLoader(db_complex_train[5:1000], batch_size=1, shuffle=False)\n",
    "#data =  next(iter(loader))\n",
    "\n",
    "pdb_id = data[3][0]\n",
    "real_mol = Chem.MolFromMol2File('data/pdbbind_v2019_other_refined/' + pdb_id + '/' + pdb_id +'_ligand.mol2')\n",
    "mol = Chem.MolFromSmiles(Chem.MolToSmiles(Chem.MolFromMol2File('data/pdbbind_v2019_other_refined/' + pdb_id + '/' + pdb_id +'_ligand.mol2')))\n",
    "Chem.rdchem.Mol.Compute2DCoords(mol)\n",
    "Chem.rdMolTransforms.CanonicalizeConformer(mol.GetConformer())\n",
    "mol = Chem.AddHs(mol)\n",
    "AllChem.EmbedMolecule(mol, randomSeed=123)\n",
    "AllChem.MMFFOptimizeMolecule(mol)\n",
    "mol = Chem.RemoveHs(mol)\n",
    "\n",
    "\n",
    "opt = optimze_conformation(mol=mol, target_coords=torch.tensor([0]), n_particles=1, pi=torch.tensor([0]), mu=torch.tensor([0]), sigma=torch.tensor([0]))\n",
    "\n",
    "\n",
    "opt_mol = copy.copy(mol)\n",
    "values = t['x']\n",
    "        \n",
    "# aplply rotations\n",
    "[opt.SetDihedral(opt_mol.GetConformer(), opt.rotable_bonds[r], values[6+r]) for r in range(len(opt.rotable_bonds))]\n",
    "        \n",
    "# aplply transformation matrix\n",
    "rdMolTransforms.TransformConformer(opt_mol.GetConformer(), opt.GetTransformationMatrix(values[:6]))\n",
    "opt_mol\n"
   ]
  },
  {
   "cell_type": "code",
   "execution_count": null,
   "metadata": {},
   "outputs": [],
   "source": [
    "import py3Dmol\n",
    "p = py3Dmol.view(width=400,height=400)\n",
    "p.addModel(Chem.MolToMolBlock(opt_mol),'sdf')\n",
    "p.addModel(Chem.MolToMolBlock(real_mol),'sdf')\n",
    "p.setStyle({'stick':{}})\n",
    "p.zoomTo()\n",
    "\n",
    "p.show()"
   ]
  },
  {
   "cell_type": "code",
   "execution_count": null,
   "metadata": {},
   "outputs": [],
   "source": []
  },
  {
   "cell_type": "code",
   "execution_count": null,
   "metadata": {},
   "outputs": [],
   "source": []
  }
 ],
 "metadata": {
  "kernelspec": {
   "display_name": "Python [conda env:python36]",
   "language": "python",
   "name": "conda-env-python36-py"
  },
  "language_info": {
   "codemirror_mode": {
    "name": "ipython",
    "version": 3
   },
   "file_extension": ".py",
   "mimetype": "text/x-python",
   "name": "python",
   "nbconvert_exporter": "python",
   "pygments_lexer": "ipython3",
   "version": "3.6.8"
  }
 },
 "nbformat": 4,
 "nbformat_minor": 4
}
